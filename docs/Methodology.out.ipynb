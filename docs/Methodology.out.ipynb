{
 "cells": [
  {
   "cell_type": "markdown",
   "metadata": {},
   "source": [
    "# methodology\n",
    "\n",
    "Leila Aburomia  \n",
    "Aldair Perez  \n",
    "Noah Goodhart"
   ],
   "id": "07dfade3-c4c9-47ac-839b-7d3210499b24"
  }
 ],
 "nbformat": 4,
 "nbformat_minor": 5,
 "metadata": {}
}
