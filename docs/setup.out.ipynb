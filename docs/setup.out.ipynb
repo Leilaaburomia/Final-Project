{
 "cells": [
  {
   "cell_type": "markdown",
   "metadata": {},
   "source": [
    "# Project Setup\n",
    "\n",
    "Leila Aburomia\n",
    "\n",
    "You can add options to executable code like this"
   ],
   "id": "7da19a96-8633-43c6-8128-eabd0e7d8726"
  },
  {
   "cell_type": "code",
   "execution_count": null,
   "metadata": {},
   "outputs": [
    {
     "output_type": "stream",
     "name": "stdout",
     "text": [
      "[1] 4"
     ]
    }
   ],
   "source": [
    "2 * 2\n"
   ],
   "id": "a070309d-d20d-453a-84cc-d34cdc21a788"
  },
  {
   "cell_type": "markdown",
   "metadata": {},
   "source": [
    "The `echo: false` option disables the printing of code (only output is displayed)."
   ],
   "id": "1261e9a7-c9da-46e1-aa8a-1224a2165a66"
  }
 ],
 "nbformat": 4,
 "nbformat_minor": 5,
 "metadata": {}
}
