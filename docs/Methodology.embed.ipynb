{
 "cells": [
  {
   "cell_type": "markdown",
   "metadata": {},
   "source": [
    "# methodology\n",
    "\n",
    "Leila Aburomia  \n",
    "Aldair Perez  \n",
    "Noah Goodhart"
   ],
   "id": "23835253-9dd2-47c5-95c2-b635caa72ff5"
  }
 ],
 "nbformat": 4,
 "nbformat_minor": 5,
 "metadata": {}
}
